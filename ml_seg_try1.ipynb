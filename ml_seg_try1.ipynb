{
 "cells": [
  {
   "cell_type": "code",
   "execution_count": 38,
   "metadata": {
    "collapsed": false
   },
   "outputs": [],
   "source": [
    "from numpy.fft import rfft\n",
    "from scipy import signal\n",
    "\n",
    "import numpy as np\n",
    "import matplotlib.pyplot as plt\n",
    "import plotly.plotly as py\n",
    "\n",
    "\n",
    "import pandas as pd\n",
    "import timeit\n",
    "from sqlalchemy.sql import text\n",
    "from sklearn import tree\n",
    "from sklearn import cross_validation\n",
    "from sklearn.cross_validation import train_test_split\n",
    "from sklearn import metrics\n",
    "from sklearn.cross_validation import cross_val_score\n",
    "from sklearn.tree import export_graphviz\n",
    "from sklearn.ensemble import RandomForestClassifier\n",
    "from sklearn.linear_model import LogisticRegression\n",
    "\n",
    "#import sherlock.filesystem as sfs\n",
    "#import sherlock.database as sdb\n",
    "\n",
    "from sklearn import preprocessing\n",
    "\n",
    "from sklearn.cross_validation import train_test_split"
   ]
  },
  {
   "cell_type": "markdown",
   "metadata": {},
   "source": [
    "Strategy: \n",
    "----------------------------------------------\n",
    "\n",
    "--------------------------------------------------------------------------------------------\n",
    "Trying some pre-processing with simple random forest.\n",
    "\n",
    "The problem has a smell of descision trees to me, since most predictions of the neighboring \n",
    "facies are very accurate. I'll try a random forest/boosted tree approach\n",
    "\n",
    "--------------------------------------------------------------------------------------------"
   ]
  },
  {
   "cell_type": "markdown",
   "metadata": {},
   "source": [
    "First steps, reading in and exploring the data are the same as Brendon's steps:"
   ]
  },
  {
   "cell_type": "code",
   "execution_count": 1344,
   "metadata": {
    "collapsed": false
   },
   "outputs": [
    {
     "data": {
      "text/html": [
       "<div>\n",
       "<table border=\"1\" class=\"dataframe\">\n",
       "  <thead>\n",
       "    <tr style=\"text-align: right;\">\n",
       "      <th></th>\n",
       "      <th>Facies</th>\n",
       "      <th>Formation</th>\n",
       "      <th>Well Name</th>\n",
       "      <th>Depth</th>\n",
       "      <th>GR</th>\n",
       "      <th>ILD_log10</th>\n",
       "      <th>DeltaPHI</th>\n",
       "      <th>PHIND</th>\n",
       "      <th>PE</th>\n",
       "      <th>NM_M</th>\n",
       "      <th>RELPOS</th>\n",
       "    </tr>\n",
       "  </thead>\n",
       "  <tbody>\n",
       "    <tr>\n",
       "      <th>0</th>\n",
       "      <td>3</td>\n",
       "      <td>A1 SH</td>\n",
       "      <td>SHRIMPLIN</td>\n",
       "      <td>2793.0</td>\n",
       "      <td>77.45</td>\n",
       "      <td>0.664</td>\n",
       "      <td>9.9</td>\n",
       "      <td>11.915</td>\n",
       "      <td>4.6</td>\n",
       "      <td>1</td>\n",
       "      <td>1.000</td>\n",
       "    </tr>\n",
       "    <tr>\n",
       "      <th>1</th>\n",
       "      <td>3</td>\n",
       "      <td>A1 SH</td>\n",
       "      <td>SHRIMPLIN</td>\n",
       "      <td>2793.5</td>\n",
       "      <td>78.26</td>\n",
       "      <td>0.661</td>\n",
       "      <td>14.2</td>\n",
       "      <td>12.565</td>\n",
       "      <td>4.1</td>\n",
       "      <td>1</td>\n",
       "      <td>0.979</td>\n",
       "    </tr>\n",
       "    <tr>\n",
       "      <th>2</th>\n",
       "      <td>3</td>\n",
       "      <td>A1 SH</td>\n",
       "      <td>SHRIMPLIN</td>\n",
       "      <td>2794.0</td>\n",
       "      <td>79.05</td>\n",
       "      <td>0.658</td>\n",
       "      <td>14.8</td>\n",
       "      <td>13.050</td>\n",
       "      <td>3.6</td>\n",
       "      <td>1</td>\n",
       "      <td>0.957</td>\n",
       "    </tr>\n",
       "    <tr>\n",
       "      <th>3</th>\n",
       "      <td>3</td>\n",
       "      <td>A1 SH</td>\n",
       "      <td>SHRIMPLIN</td>\n",
       "      <td>2794.5</td>\n",
       "      <td>86.10</td>\n",
       "      <td>0.655</td>\n",
       "      <td>13.9</td>\n",
       "      <td>13.115</td>\n",
       "      <td>3.5</td>\n",
       "      <td>1</td>\n",
       "      <td>0.936</td>\n",
       "    </tr>\n",
       "    <tr>\n",
       "      <th>4</th>\n",
       "      <td>3</td>\n",
       "      <td>A1 SH</td>\n",
       "      <td>SHRIMPLIN</td>\n",
       "      <td>2795.0</td>\n",
       "      <td>74.58</td>\n",
       "      <td>0.647</td>\n",
       "      <td>13.5</td>\n",
       "      <td>13.300</td>\n",
       "      <td>3.4</td>\n",
       "      <td>1</td>\n",
       "      <td>0.915</td>\n",
       "    </tr>\n",
       "  </tbody>\n",
       "</table>\n",
       "</div>"
      ],
      "text/plain": [
       "   Facies Formation  Well Name   Depth     GR  ILD_log10  DeltaPHI   PHIND  \\\n",
       "0       3     A1 SH  SHRIMPLIN  2793.0  77.45      0.664       9.9  11.915   \n",
       "1       3     A1 SH  SHRIMPLIN  2793.5  78.26      0.661      14.2  12.565   \n",
       "2       3     A1 SH  SHRIMPLIN  2794.0  79.05      0.658      14.8  13.050   \n",
       "3       3     A1 SH  SHRIMPLIN  2794.5  86.10      0.655      13.9  13.115   \n",
       "4       3     A1 SH  SHRIMPLIN  2795.0  74.58      0.647      13.5  13.300   \n",
       "\n",
       "    PE  NM_M  RELPOS  \n",
       "0  4.6     1   1.000  \n",
       "1  4.1     1   0.979  \n",
       "2  3.6     1   0.957  \n",
       "3  3.5     1   0.936  \n",
       "4  3.4     1   0.915  "
      ]
     },
     "execution_count": 1344,
     "metadata": {},
     "output_type": "execute_result"
    }
   ],
   "source": [
    "filename = 'training_data.csv'\n",
    "training_data0 = pd.read_csv(filename)\n",
    "training_data0.head()"
   ]
  },
  {
   "cell_type": "markdown",
   "metadata": {},
   "source": [
    "1) Prediction from training set using all wells\n",
    "-------------------------------------------------------\n",
    "Let's do a first shot with random forests. \n",
    "First we cheat and see how awesome we would do if the test data was not from an independent well"
   ]
  },
  {
   "cell_type": "code",
   "execution_count": 1350,
   "metadata": {
    "collapsed": false
   },
   "outputs": [
    {
     "data": {
      "text/html": [
       "<div>\n",
       "<table border=\"1\" class=\"dataframe\">\n",
       "  <thead>\n",
       "    <tr style=\"text-align: right;\">\n",
       "      <th></th>\n",
       "      <th>GR</th>\n",
       "      <th>ILD_log10</th>\n",
       "      <th>DeltaPHI</th>\n",
       "      <th>PHIND</th>\n",
       "      <th>PE</th>\n",
       "      <th>NM_M</th>\n",
       "      <th>RELPOS</th>\n",
       "    </tr>\n",
       "  </thead>\n",
       "  <tbody>\n",
       "    <tr>\n",
       "      <th>count</th>\n",
       "      <td>3232.000000</td>\n",
       "      <td>3232.000000</td>\n",
       "      <td>3232.000000</td>\n",
       "      <td>3232.000000</td>\n",
       "      <td>3232.000000</td>\n",
       "      <td>3232.000000</td>\n",
       "      <td>3232.000000</td>\n",
       "    </tr>\n",
       "    <tr>\n",
       "      <th>mean</th>\n",
       "      <td>66.135769</td>\n",
       "      <td>0.642719</td>\n",
       "      <td>3.559642</td>\n",
       "      <td>13.483213</td>\n",
       "      <td>3.725014</td>\n",
       "      <td>1.498453</td>\n",
       "      <td>0.520287</td>\n",
       "    </tr>\n",
       "    <tr>\n",
       "      <th>std</th>\n",
       "      <td>30.854826</td>\n",
       "      <td>0.241845</td>\n",
       "      <td>5.228948</td>\n",
       "      <td>7.698980</td>\n",
       "      <td>0.896152</td>\n",
       "      <td>0.500075</td>\n",
       "      <td>0.286792</td>\n",
       "    </tr>\n",
       "    <tr>\n",
       "      <th>min</th>\n",
       "      <td>13.250000</td>\n",
       "      <td>-0.025949</td>\n",
       "      <td>-21.832000</td>\n",
       "      <td>0.550000</td>\n",
       "      <td>0.200000</td>\n",
       "      <td>1.000000</td>\n",
       "      <td>0.010000</td>\n",
       "    </tr>\n",
       "    <tr>\n",
       "      <th>25%</th>\n",
       "      <td>46.918750</td>\n",
       "      <td>0.492750</td>\n",
       "      <td>1.163750</td>\n",
       "      <td>8.346750</td>\n",
       "      <td>3.100000</td>\n",
       "      <td>1.000000</td>\n",
       "      <td>0.273000</td>\n",
       "    </tr>\n",
       "    <tr>\n",
       "      <th>50%</th>\n",
       "      <td>65.721500</td>\n",
       "      <td>0.624437</td>\n",
       "      <td>3.500000</td>\n",
       "      <td>12.150000</td>\n",
       "      <td>3.551500</td>\n",
       "      <td>1.000000</td>\n",
       "      <td>0.526000</td>\n",
       "    </tr>\n",
       "    <tr>\n",
       "      <th>75%</th>\n",
       "      <td>79.626250</td>\n",
       "      <td>0.812735</td>\n",
       "      <td>6.432500</td>\n",
       "      <td>16.453750</td>\n",
       "      <td>4.300000</td>\n",
       "      <td>2.000000</td>\n",
       "      <td>0.767250</td>\n",
       "    </tr>\n",
       "    <tr>\n",
       "      <th>max</th>\n",
       "      <td>361.150000</td>\n",
       "      <td>1.480000</td>\n",
       "      <td>18.600000</td>\n",
       "      <td>84.400000</td>\n",
       "      <td>8.094000</td>\n",
       "      <td>2.000000</td>\n",
       "      <td>1.000000</td>\n",
       "    </tr>\n",
       "  </tbody>\n",
       "</table>\n",
       "</div>"
      ],
      "text/plain": [
       "                GR    ILD_log10     DeltaPHI        PHIND           PE  \\\n",
       "count  3232.000000  3232.000000  3232.000000  3232.000000  3232.000000   \n",
       "mean     66.135769     0.642719     3.559642    13.483213     3.725014   \n",
       "std      30.854826     0.241845     5.228948     7.698980     0.896152   \n",
       "min      13.250000    -0.025949   -21.832000     0.550000     0.200000   \n",
       "25%      46.918750     0.492750     1.163750     8.346750     3.100000   \n",
       "50%      65.721500     0.624437     3.500000    12.150000     3.551500   \n",
       "75%      79.626250     0.812735     6.432500    16.453750     4.300000   \n",
       "max     361.150000     1.480000    18.600000    84.400000     8.094000   \n",
       "\n",
       "              NM_M       RELPOS  \n",
       "count  3232.000000  3232.000000  \n",
       "mean      1.498453     0.520287  \n",
       "std       0.500075     0.286792  \n",
       "min       1.000000     0.010000  \n",
       "25%       1.000000     0.273000  \n",
       "50%       1.000000     0.526000  \n",
       "75%       2.000000     0.767250  \n",
       "max       2.000000     1.000000  "
      ]
     },
     "execution_count": 1350,
     "metadata": {},
     "output_type": "execute_result"
    }
   ],
   "source": [
    "correct_facies_labels = training_data0['Facies'].values\n",
    "\n",
    "feature_vectors = training_data0.drop(['Formation', 'Well Name', 'Depth','Facies','FaciesLabels'], axis=1)\n",
    "feature_vectors.describe()"
   ]
  },
  {
   "cell_type": "markdown",
   "metadata": {},
   "source": [
    "scale the data:"
   ]
  },
  {
   "cell_type": "code",
   "execution_count": 1351,
   "metadata": {
    "collapsed": true
   },
   "outputs": [],
   "source": [
    "scaler = preprocessing.StandardScaler().fit(feature_vectors)\n",
    "scaled_features = scaler.transform(feature_vectors)"
   ]
  },
  {
   "cell_type": "code",
   "execution_count": 1352,
   "metadata": {
    "collapsed": true
   },
   "outputs": [],
   "source": [
    "X_train, X_test, y_train, y_test = train_test_split(scaled_features,  correct_facies_labels, test_size=0.2, random_state=0)\n"
   ]
  },
  {
   "cell_type": "code",
   "execution_count": 1355,
   "metadata": {
    "collapsed": false
   },
   "outputs": [
    {
     "name": "stdout",
     "output_type": "stream",
     "text": [
      "prediction from random forest:\n",
      "0.724884080371\n",
      "f1 score:\n",
      "0.725714762122\n"
     ]
    }
   ],
   "source": [
    "rf = RandomForestClassifier(max_depth = 15,n_estimators=200,max_features=None)\n",
    "#rf = RandomForestClassifier()\n",
    "rf.fit(X_train, y_train)\n",
    "\n",
    "predicted_random_forest = rf.predict(X_test)\n",
    "\n",
    "print \"prediction from random forest:\"\n",
    "print metrics.accuracy_score(list(y_test), predicted_random_forest)\n",
    "\n",
    "print \"f1 score:\"\n",
    "print metrics.f1_score(list(y_test), predicted_random_forest,average = 'weighted')"
   ]
  },
  {
   "cell_type": "code",
   "execution_count": 1356,
   "metadata": {
    "collapsed": true
   },
   "outputs": [],
   "source": [
    "training_data=training_data0.copy()\n"
   ]
  },
  {
   "cell_type": "markdown",
   "metadata": {
    "collapsed": true
   },
   "source": [
    "2) Prediction of Blind well\n",
    "---------------------------------------------\n"
   ]
  },
  {
   "cell_type": "code",
   "execution_count": 1357,
   "metadata": {
    "collapsed": false
   },
   "outputs": [],
   "source": [
    "#remove 1 well\n",
    "blind = training_data[training_data['Well Name'] == 'SHANKLE']\n",
    "training_data = training_data[training_data['Well Name'] != 'SHANKLE']"
   ]
  },
  {
   "cell_type": "code",
   "execution_count": 1358,
   "metadata": {
    "collapsed": true
   },
   "outputs": [],
   "source": [
    "correct_facies_labels = training_data['Facies'].values\n",
    "feature_vectors = training_data.drop(['Formation', 'Well Name', 'Depth','Facies','FaciesLabels'], axis=1)\n",
    "scaler = preprocessing.StandardScaler().fit(feature_vectors)\n",
    "scaled_features = scaler.transform(feature_vectors)"
   ]
  },
  {
   "cell_type": "code",
   "execution_count": 1359,
   "metadata": {
    "collapsed": false
   },
   "outputs": [
    {
     "data": {
      "text/plain": [
       "RandomForestClassifier(bootstrap=True, class_weight=None, criterion='gini',\n",
       "            max_depth=15, max_features=None, max_leaf_nodes=None,\n",
       "            min_samples_leaf=1, min_samples_split=2,\n",
       "            min_weight_fraction_leaf=0.0, n_estimators=200, n_jobs=1,\n",
       "            oob_score=False, random_state=None, verbose=0,\n",
       "            warm_start=False)"
      ]
     },
     "execution_count": 1359,
     "metadata": {},
     "output_type": "execute_result"
    }
   ],
   "source": [
    "X_train, dum1, y_train, dum2 = train_test_split(scaled_features,  correct_facies_labels, test_size=0.2, random_state=0)\n",
    "rf.fit(X_train, y_train)"
   ]
  },
  {
   "cell_type": "code",
   "execution_count": 1360,
   "metadata": {
    "collapsed": false
   },
   "outputs": [],
   "source": [
    "# get the blind well\n",
    "correct_facies_labels = blind['Facies'].values\n",
    "feature_vectors = blind.drop(['Formation', 'Well Name', 'Depth','Facies','FaciesLabels'], axis=1)\n",
    "scaler = preprocessing.StandardScaler().fit(feature_vectors)\n",
    "scaled_features = scaler.transform(feature_vectors)\n"
   ]
  },
  {
   "cell_type": "code",
   "execution_count": 1361,
   "metadata": {
    "collapsed": false
   },
   "outputs": [
    {
     "name": "stdout",
     "output_type": "stream",
     "text": [
      "All training data different from test well\n",
      "prediction from random forest:\n",
      "0.456570155902\n",
      "f1 score:\n",
      "0.443892955065\n"
     ]
    }
   ],
   "source": [
    "predicted_random_forest = rf.predict(scaled_features)\n",
    "print \"All training data different from test well\"\n",
    "print \"prediction from random forest:\"\n",
    "print metrics.accuracy_score(correct_facies_labels, predicted_random_forest)\n",
    "\n",
    "print \"f1 score:\"\n",
    "print metrics.f1_score(correct_facies_labels, predicted_random_forest,average = 'weighted')"
   ]
  },
  {
   "cell_type": "markdown",
   "metadata": {},
   "source": [
    "The prediction performs much much beter if the all data is included in the training,\n",
    "compared to blind wells. Shouldn't be that much a surprise but doesn't this suggest some wells\n",
    "are not representative of the others\n",
    "\n"
   ]
  },
  {
   "cell_type": "code",
   "execution_count": 1362,
   "metadata": {
    "collapsed": false
   },
   "outputs": [
    {
     "name": "stdout",
     "output_type": "stream",
     "text": [
      "     Pred    SS  CSiS  FSiS  SiSh    MS    WS     D    PS    BS Total\n",
      "     True\n",
      "       SS    15    73     1                                        89\n",
      "     CSiS     9    65    15                                        89\n",
      "     FSiS     1    61    55                                       117\n",
      "     SiSh                                   6           1           7\n",
      "       MS                       6           8           5          19\n",
      "       WS                 2     1     2    43          23          71\n",
      "        D                                         7    10          17\n",
      "       PS                                  14     3    20     3    40\n",
      "       BS                                                           0\n"
     ]
    }
   ],
   "source": [
    "from sklearn.metrics import confusion_matrix\n",
    "from classification_utilities import display_cm, display_adj_cm\n",
    "\n",
    "#conf = confusion_matrix(correct_facies_labels, predicted_gradboost)\n",
    "conf = confusion_matrix(correct_facies_labels, predicted_random_forest)\n",
    "\n",
    "display_cm(conf, facies_labels, hide_zeros=True)"
   ]
  },
  {
   "cell_type": "markdown",
   "metadata": {},
   "source": [
    "This is the benchmark to beat : 0.44 using rf, (slightly higher for gradient boost)\n",
    "\n",
    "------------------------------------------\n",
    "\n",
    "\n"
   ]
  },
  {
   "cell_type": "markdown",
   "metadata": {},
   "source": [
    "3) Data exploration\n",
    "-----------------------------------------------------------------"
   ]
  },
  {
   "cell_type": "markdown",
   "metadata": {},
   "source": [
    "Basic statistics by facies:"
   ]
  },
  {
   "cell_type": "code",
   "execution_count": 1668,
   "metadata": {
    "collapsed": false
   },
   "outputs": [
    {
     "data": {
      "text/html": [
       "<div>\n",
       "<table border=\"1\" class=\"dataframe\">\n",
       "  <thead>\n",
       "    <tr style=\"text-align: right;\">\n",
       "      <th></th>\n",
       "      <th>Depth</th>\n",
       "      <th>GR</th>\n",
       "      <th>ILD_log10</th>\n",
       "      <th>DeltaPHI</th>\n",
       "      <th>PHIND</th>\n",
       "      <th>PE</th>\n",
       "      <th>NM_M</th>\n",
       "      <th>RELPOS</th>\n",
       "    </tr>\n",
       "    <tr>\n",
       "      <th>Facies</th>\n",
       "      <th></th>\n",
       "      <th></th>\n",
       "      <th></th>\n",
       "      <th></th>\n",
       "      <th></th>\n",
       "      <th></th>\n",
       "      <th></th>\n",
       "      <th></th>\n",
       "    </tr>\n",
       "  </thead>\n",
       "  <tbody>\n",
       "    <tr>\n",
       "      <th>1</th>\n",
       "      <td>2749.503861</td>\n",
       "      <td>64.497761</td>\n",
       "      <td>0.371312</td>\n",
       "      <td>3.506463</td>\n",
       "      <td>14.818996</td>\n",
       "      <td>2.913313</td>\n",
       "      <td>1.000000</td>\n",
       "      <td>0.452486</td>\n",
       "    </tr>\n",
       "    <tr>\n",
       "      <th>2</th>\n",
       "      <td>2837.130081</td>\n",
       "      <td>74.605205</td>\n",
       "      <td>0.548171</td>\n",
       "      <td>5.309705</td>\n",
       "      <td>15.189019</td>\n",
       "      <td>3.215267</td>\n",
       "      <td>1.008130</td>\n",
       "      <td>0.491150</td>\n",
       "    </tr>\n",
       "    <tr>\n",
       "      <th>3</th>\n",
       "      <td>2875.241463</td>\n",
       "      <td>79.915083</td>\n",
       "      <td>0.547504</td>\n",
       "      <td>3.797480</td>\n",
       "      <td>20.619698</td>\n",
       "      <td>3.132340</td>\n",
       "      <td>1.026016</td>\n",
       "      <td>0.560979</td>\n",
       "    </tr>\n",
       "    <tr>\n",
       "      <th>4</th>\n",
       "      <td>2867.282609</td>\n",
       "      <td>92.169957</td>\n",
       "      <td>0.776840</td>\n",
       "      <td>5.579728</td>\n",
       "      <td>11.152821</td>\n",
       "      <td>3.802152</td>\n",
       "      <td>1.972826</td>\n",
       "      <td>0.421908</td>\n",
       "    </tr>\n",
       "    <tr>\n",
       "      <th>5</th>\n",
       "      <td>2957.559908</td>\n",
       "      <td>60.612788</td>\n",
       "      <td>0.820655</td>\n",
       "      <td>3.735212</td>\n",
       "      <td>9.562668</td>\n",
       "      <td>3.995184</td>\n",
       "      <td>1.949309</td>\n",
       "      <td>0.590733</td>\n",
       "    </tr>\n",
       "    <tr>\n",
       "      <th>6</th>\n",
       "      <td>2892.073593</td>\n",
       "      <td>55.554532</td>\n",
       "      <td>0.884502</td>\n",
       "      <td>2.728424</td>\n",
       "      <td>7.442779</td>\n",
       "      <td>4.234136</td>\n",
       "      <td>1.995671</td>\n",
       "      <td>0.493753</td>\n",
       "    </tr>\n",
       "    <tr>\n",
       "      <th>7</th>\n",
       "      <td>2926.974490</td>\n",
       "      <td>64.614643</td>\n",
       "      <td>0.465649</td>\n",
       "      <td>5.034133</td>\n",
       "      <td>14.080418</td>\n",
       "      <td>3.671286</td>\n",
       "      <td>1.989796</td>\n",
       "      <td>0.600520</td>\n",
       "    </tr>\n",
       "    <tr>\n",
       "      <th>8</th>\n",
       "      <td>2891.041165</td>\n",
       "      <td>47.195886</td>\n",
       "      <td>0.747021</td>\n",
       "      <td>1.444823</td>\n",
       "      <td>9.585972</td>\n",
       "      <td>4.518653</td>\n",
       "      <td>1.975904</td>\n",
       "      <td>0.585058</td>\n",
       "    </tr>\n",
       "    <tr>\n",
       "      <th>9</th>\n",
       "      <td>3033.400621</td>\n",
       "      <td>44.877280</td>\n",
       "      <td>0.574677</td>\n",
       "      <td>0.198547</td>\n",
       "      <td>13.226944</td>\n",
       "      <td>5.295925</td>\n",
       "      <td>2.000000</td>\n",
       "      <td>0.451925</td>\n",
       "    </tr>\n",
       "  </tbody>\n",
       "</table>\n",
       "</div>"
      ],
      "text/plain": [
       "              Depth         GR  ILD_log10  DeltaPHI      PHIND        PE  \\\n",
       "Facies                                                                     \n",
       "1       2749.503861  64.497761   0.371312  3.506463  14.818996  2.913313   \n",
       "2       2837.130081  74.605205   0.548171  5.309705  15.189019  3.215267   \n",
       "3       2875.241463  79.915083   0.547504  3.797480  20.619698  3.132340   \n",
       "4       2867.282609  92.169957   0.776840  5.579728  11.152821  3.802152   \n",
       "5       2957.559908  60.612788   0.820655  3.735212   9.562668  3.995184   \n",
       "6       2892.073593  55.554532   0.884502  2.728424   7.442779  4.234136   \n",
       "7       2926.974490  64.614643   0.465649  5.034133  14.080418  3.671286   \n",
       "8       2891.041165  47.195886   0.747021  1.444823   9.585972  4.518653   \n",
       "9       3033.400621  44.877280   0.574677  0.198547  13.226944  5.295925   \n",
       "\n",
       "            NM_M    RELPOS  \n",
       "Facies                      \n",
       "1       1.000000  0.452486  \n",
       "2       1.008130  0.491150  \n",
       "3       1.026016  0.560979  \n",
       "4       1.972826  0.421908  \n",
       "5       1.949309  0.590733  \n",
       "6       1.995671  0.493753  \n",
       "7       1.989796  0.600520  \n",
       "8       1.975904  0.585058  \n",
       "9       2.000000  0.451925  "
      ]
     },
     "execution_count": 1668,
     "metadata": {},
     "output_type": "execute_result"
    }
   ],
   "source": [
    "temp_1=training_data.groupby('Formation').mean()\n",
    "temp_2=training_data.groupby('Facies').mean()\n",
    "#temp_3=training_data.groupby('Facies').count()\n",
    "temp_2"
   ]
  },
  {
   "cell_type": "markdown",
   "metadata": {},
   "source": [
    "Basic statistics by well:"
   ]
  },
  {
   "cell_type": "code",
   "execution_count": 1364,
   "metadata": {
    "collapsed": false
   },
   "outputs": [
    {
     "data": {
      "text/html": [
       "<div>\n",
       "<table border=\"1\" class=\"dataframe\">\n",
       "  <thead>\n",
       "    <tr style=\"text-align: right;\">\n",
       "      <th></th>\n",
       "      <th>Facies</th>\n",
       "      <th>Depth</th>\n",
       "      <th>GR</th>\n",
       "      <th>ILD_log10</th>\n",
       "      <th>DeltaPHI</th>\n",
       "      <th>PHIND</th>\n",
       "      <th>PE</th>\n",
       "      <th>NM_M</th>\n",
       "      <th>RELPOS</th>\n",
       "    </tr>\n",
       "    <tr>\n",
       "      <th>Well Name</th>\n",
       "      <th></th>\n",
       "      <th></th>\n",
       "      <th></th>\n",
       "      <th></th>\n",
       "      <th></th>\n",
       "      <th></th>\n",
       "      <th></th>\n",
       "      <th></th>\n",
       "      <th></th>\n",
       "    </tr>\n",
       "  </thead>\n",
       "  <tbody>\n",
       "    <tr>\n",
       "      <th>CHURCHMAN BIBLE</th>\n",
       "      <td>5.655941</td>\n",
       "      <td>3019.482673</td>\n",
       "      <td>63.683453</td>\n",
       "      <td>0.758757</td>\n",
       "      <td>1.560000</td>\n",
       "      <td>14.011116</td>\n",
       "      <td>3.789926</td>\n",
       "      <td>1.722772</td>\n",
       "      <td>0.544317</td>\n",
       "    </tr>\n",
       "    <tr>\n",
       "      <th>CROSS H CATTLE</th>\n",
       "      <td>3.127745</td>\n",
       "      <td>2702.360279</td>\n",
       "      <td>72.699285</td>\n",
       "      <td>0.568829</td>\n",
       "      <td>2.466667</td>\n",
       "      <td>15.574850</td>\n",
       "      <td>3.325852</td>\n",
       "      <td>1.297405</td>\n",
       "      <td>0.506182</td>\n",
       "    </tr>\n",
       "    <tr>\n",
       "      <th>LUKE G U</th>\n",
       "      <td>4.353579</td>\n",
       "      <td>2725.708243</td>\n",
       "      <td>64.777223</td>\n",
       "      <td>0.639690</td>\n",
       "      <td>4.218438</td>\n",
       "      <td>12.953905</td>\n",
       "      <td>3.660705</td>\n",
       "      <td>1.466377</td>\n",
       "      <td>0.514095</td>\n",
       "    </tr>\n",
       "    <tr>\n",
       "      <th>NEWBY</th>\n",
       "      <td>4.801296</td>\n",
       "      <td>2941.500000</td>\n",
       "      <td>60.733045</td>\n",
       "      <td>0.674812</td>\n",
       "      <td>3.477970</td>\n",
       "      <td>11.625378</td>\n",
       "      <td>3.771706</td>\n",
       "      <td>1.615551</td>\n",
       "      <td>0.528138</td>\n",
       "    </tr>\n",
       "    <tr>\n",
       "      <th>NOLAN</th>\n",
       "      <td>4.643373</td>\n",
       "      <td>2957.000000</td>\n",
       "      <td>68.693940</td>\n",
       "      <td>0.592400</td>\n",
       "      <td>3.134070</td>\n",
       "      <td>12.197361</td>\n",
       "      <td>3.857947</td>\n",
       "      <td>1.527711</td>\n",
       "      <td>0.549007</td>\n",
       "    </tr>\n",
       "    <tr>\n",
       "      <th>Recruit F9</th>\n",
       "      <td>9.000000</td>\n",
       "      <td>3038.367647</td>\n",
       "      <td>44.712853</td>\n",
       "      <td>0.567853</td>\n",
       "      <td>1.436515</td>\n",
       "      <td>13.183368</td>\n",
       "      <td>5.460735</td>\n",
       "      <td>2.000000</td>\n",
       "      <td>0.448279</td>\n",
       "    </tr>\n",
       "    <tr>\n",
       "      <th>SHRIMPLIN</th>\n",
       "      <td>4.384289</td>\n",
       "      <td>2910.501062</td>\n",
       "      <td>69.408896</td>\n",
       "      <td>0.659679</td>\n",
       "      <td>7.708493</td>\n",
       "      <td>12.173705</td>\n",
       "      <td>4.219958</td>\n",
       "      <td>1.488323</td>\n",
       "      <td>0.514482</td>\n",
       "    </tr>\n",
       "  </tbody>\n",
       "</table>\n",
       "</div>"
      ],
      "text/plain": [
       "                   Facies        Depth         GR  ILD_log10  DeltaPHI  \\\n",
       "Well Name                                                                \n",
       "CHURCHMAN BIBLE  5.655941  3019.482673  63.683453   0.758757  1.560000   \n",
       "CROSS H CATTLE   3.127745  2702.360279  72.699285   0.568829  2.466667   \n",
       "LUKE G U         4.353579  2725.708243  64.777223   0.639690  4.218438   \n",
       "NEWBY            4.801296  2941.500000  60.733045   0.674812  3.477970   \n",
       "NOLAN            4.643373  2957.000000  68.693940   0.592400  3.134070   \n",
       "Recruit F9       9.000000  3038.367647  44.712853   0.567853  1.436515   \n",
       "SHRIMPLIN        4.384289  2910.501062  69.408896   0.659679  7.708493   \n",
       "\n",
       "                     PHIND        PE      NM_M    RELPOS  \n",
       "Well Name                                                 \n",
       "CHURCHMAN BIBLE  14.011116  3.789926  1.722772  0.544317  \n",
       "CROSS H CATTLE   15.574850  3.325852  1.297405  0.506182  \n",
       "LUKE G U         12.953905  3.660705  1.466377  0.514095  \n",
       "NEWBY            11.625378  3.771706  1.615551  0.528138  \n",
       "NOLAN            12.197361  3.857947  1.527711  0.549007  \n",
       "Recruit F9       13.183368  5.460735  2.000000  0.448279  \n",
       "SHRIMPLIN        12.173705  4.219958  1.488323  0.514482  "
      ]
     },
     "execution_count": 1364,
     "metadata": {},
     "output_type": "execute_result"
    }
   ],
   "source": [
    "temp_4=training_data.groupby('Well Name')\n",
    "#temp_4.describe()\n",
    "#temp_5=training_data.groupby('Well Name').count()\n",
    "#temp_5=training_data.groupby('Well Name').max()\n",
    "temp_5=training_data.groupby('Well Name').mean()\n",
    "temp_5"
   ]
  },
  {
   "cell_type": "markdown",
   "metadata": {},
   "source": [
    "4 ) Select a feature from 1 well and play with this\n",
    "--------------------------------------------------------\n"
   ]
  },
  {
   "cell_type": "code",
   "execution_count": 1373,
   "metadata": {
    "collapsed": false
   },
   "outputs": [],
   "source": [
    "xx0 = list(training_data0.Facies)\n",
    "#xx1 = list(training_data0.DeltaPHI)\n",
    "xx1 = list(training_data0.GR)\n"
   ]
  },
  {
   "cell_type": "code",
   "execution_count": 1374,
   "metadata": {
    "collapsed": false
   },
   "outputs": [
    {
     "data": {
      "image/png": "[encoded data removed]",
      "text/plain": [
       "<matplotlib.figure.Figure at 0x7f4418bd0090>"
      ]
     },
     "metadata": {},
     "output_type": "display_data"
    }
   ],
   "source": [
    "x_min1=np.roll(xx1, 1)\n",
    "x_min2=np.roll(xx1, 2)\n",
    "x_min3=np.roll(xx1, 3)\n",
    "scale=0.5\n",
    "#b, a = signal.butter(2, 0.125, analog=False)\n",
    "b, a = signal.butter(2, 0.09, btype='low', analog=False)\n",
    "b, a = signal.butter(2, 0.2, btype='high', analog=False)\n",
    "\n",
    "xx1=xx1-np.mean(xx1) \n",
    "xx_fil = signal.filtfilt(b, a, xx1)\n",
    "xx_mf= signal.medfilt(xx1,15)\n",
    "\n",
    "xx_grad=np.gradient(xx1)\n",
    "\n",
    "fig, ax = plt.subplots(figsize=(30, 20))\n",
    "\n",
    "plt.plot(scale*xx1, color='black', label='Original Delta PHI')\n",
    "\n",
    "#plt.plot(scale*xx_grad, color='blue', label='derivative')\n",
    "#plt.plot(scale*xx_fil, color='red', label='low pass filter')\n",
    "#plt.plot(scale*xx_fil, color='red', label='high pass filter')\n",
    "plt.plot(scale*xx_mf, color='blue', label='median filter')\n",
    "#plt.plot(x_min1, color='yellow', label='1 sample shift')\n",
    "#xlim([500 800])\n",
    "plt.plot(xx0, color='green', label='Facies')\n",
    "ax.set_xlim(400,700)\n",
    "#plt.plot(sig_lf, color='#cc0000', label='lfilter')\n",
    "plt.legend(loc=\"best\")\n",
    "plt.show()"
   ]
  },
  {
   "cell_type": "code",
   "execution_count": 1608,
   "metadata": {
    "collapsed": false
   },
   "outputs": [],
   "source": [
    "\n",
    "def magic(df):\n",
    "    df1=df.copy()\n",
    "    b, a = signal.butter(2, 0.2, btype='high', analog=False)\n",
    "    feats00=['GR','ILD_log10','DeltaPHI','PHIND','PE','NM_M','RELPOS']\n",
    "    feats01=['GR','DeltaPHI','PHIND']\n",
    "    for ii in feats0:\n",
    "        df1[ii]=df[ii]\n",
    "        name1=ii + '_1'\n",
    "        name2=ii + '_2'\n",
    "        name3=ii + '_3'\n",
    "        name4=ii + '_4'\n",
    "        xx1 = list(df[ii])\n",
    "        xx_mf= signal.medfilt(xx1,9)\n",
    "        x_min3=np.roll(xx_mf, 3)    \n",
    "        xx1a=xx1-np.mean(xx1)\n",
    "        xx_fil = signal.filtfilt(b, a, xx1)\n",
    "        xx_grad=np.gradient(xx1a) \n",
    "        if ii in feats01: \n",
    "            df1[name1]=x_min3\n",
    "            df1[name2]=xx_fil\n",
    "            df1[name3]=xx_grad\n",
    "            df1[name4]=xx_mf     \n",
    "    return df1\n",
    "\n",
    "        \n",
    "#del training_data1\n",
    "df=training_data0.copy()\n",
    "training_data1=magic(df)\n",
    "\n",
    "        \n",
    "        "
   ]
  },
  {
   "cell_type": "code",
   "execution_count": 1412,
   "metadata": {
    "collapsed": false
   },
   "outputs": [
    {
     "name": "stdout",
     "output_type": "stream",
     "text": [
      "14\n",
      "11\n"
     ]
    },
    {
     "data": {
      "image/png": "[encoded data removed]",
      "text/plain": [
       "<matplotlib.figure.Figure at 0x7f44192ae950>"
      ]
     },
     "metadata": {},
     "output_type": "display_data"
    }
   ],
   "source": [
    "x=rf.feature_importances_\n",
    "kolummen = feature_vectors.columns.tolist()\n",
    "mask=x>0.025\n",
    "mask=x>0.035\n",
    "#mask=x>0.025\n",
    "x1=x[mask]\n",
    "\n",
    "#kols=kolummen[mask]\n",
    "kols=[]\n",
    "kols_out=[]\n",
    "count=0\n",
    "for name in kolummen:\n",
    "    if mask[count]==True:\n",
    "        kols.append(name)\n",
    "    else:\n",
    "        kols_out.append(name)\n",
    "    count+=1        \n",
    "fig, ax = plt.subplots(figsize=(30, 20))\n",
    "\n",
    "\n",
    "## the data\n",
    "N = len(kols)\n",
    "#N = len(kolummen)-18\n",
    "\n",
    "#X=gradboost.feature_importances_\n",
    "#X=rf.feature_importances_\n",
    "X=x1\n",
    "\n",
    "## necessary variables\n",
    "ind = np.arange(N)                # the x locations for the groups\n",
    "width = 0.30                      # the width of the bars\n",
    "fsize=16\n",
    "## the bars\n",
    "rects1 = ax.bar(ind, X, width,\n",
    "                color='black')\n",
    "\n",
    "# axes and labels\n",
    "ax.set_xlim(-width,len(ind)+width)\n",
    "#ax.set_ylim(0,45)\n",
    "ax.set_xlabel('feature', fontsize=fsize)\n",
    "ax.set_ylabel('importance', fontsize=fsize)\n",
    "ax.set_title('feature importance', fontsize=fsize)\n",
    "#xTickMarks = ['Group'+str(i) for i in range(1,6)]\n",
    "xTickMarks = kols\n",
    "ax.set_xticks(ind+width)\n",
    "xtickNames = ax.set_xticklabels(xTickMarks, fontsize=fsize)\n",
    "plt.setp(xtickNames, rotation=45, fontsize=fsize)\n",
    "\n",
    "## add a legend\n",
    "#ax.legend( (rects1[0], rects2[0]), ('Men', 'Women') )\n",
    "print count\n",
    "print N\n",
    "plt.show()"
   ]
  },
  {
   "cell_type": "code",
   "execution_count": 1413,
   "metadata": {
    "collapsed": false
   },
   "outputs": [
    {
     "data": {
      "text/html": [
       "<div>\n",
       "<table border=\"1\" class=\"dataframe\">\n",
       "  <thead>\n",
       "    <tr style=\"text-align: right;\">\n",
       "      <th></th>\n",
       "      <th>Facies</th>\n",
       "      <th>Formation</th>\n",
       "      <th>Well Name</th>\n",
       "      <th>Depth</th>\n",
       "      <th>GR</th>\n",
       "      <th>ILD_log10</th>\n",
       "      <th>DeltaPHI</th>\n",
       "      <th>PHIND</th>\n",
       "      <th>PE</th>\n",
       "      <th>NM_M</th>\n",
       "      <th>RELPOS</th>\n",
       "      <th>FaciesLabels</th>\n",
       "      <th>DeltaPHI_1</th>\n",
       "      <th>DeltaPHI_2</th>\n",
       "      <th>DeltaPHI_6</th>\n",
       "      <th>DeltaPHI_7</th>\n",
       "    </tr>\n",
       "  </thead>\n",
       "  <tbody>\n",
       "    <tr>\n",
       "      <th>0</th>\n",
       "      <td>3</td>\n",
       "      <td>A1 SH</td>\n",
       "      <td>SHRIMPLIN</td>\n",
       "      <td>2793.0</td>\n",
       "      <td>77.45</td>\n",
       "      <td>0.664</td>\n",
       "      <td>9.9</td>\n",
       "      <td>11.915</td>\n",
       "      <td>4.6</td>\n",
       "      <td>1</td>\n",
       "      <td>1.000</td>\n",
       "      <td>FSiS</td>\n",
       "      <td>2.241</td>\n",
       "      <td>2.241</td>\n",
       "      <td>9.9</td>\n",
       "      <td>2.241</td>\n",
       "    </tr>\n",
       "    <tr>\n",
       "      <th>1</th>\n",
       "      <td>3</td>\n",
       "      <td>A1 SH</td>\n",
       "      <td>SHRIMPLIN</td>\n",
       "      <td>2793.5</td>\n",
       "      <td>78.26</td>\n",
       "      <td>0.661</td>\n",
       "      <td>14.2</td>\n",
       "      <td>12.565</td>\n",
       "      <td>4.1</td>\n",
       "      <td>1</td>\n",
       "      <td>0.979</td>\n",
       "      <td>FSiS</td>\n",
       "      <td>2.241</td>\n",
       "      <td>9.900</td>\n",
       "      <td>13.5</td>\n",
       "      <td>2.241</td>\n",
       "    </tr>\n",
       "    <tr>\n",
       "      <th>2</th>\n",
       "      <td>3</td>\n",
       "      <td>A1 SH</td>\n",
       "      <td>SHRIMPLIN</td>\n",
       "      <td>2794.0</td>\n",
       "      <td>79.05</td>\n",
       "      <td>0.658</td>\n",
       "      <td>14.8</td>\n",
       "      <td>13.050</td>\n",
       "      <td>3.6</td>\n",
       "      <td>1</td>\n",
       "      <td>0.957</td>\n",
       "      <td>FSiS</td>\n",
       "      <td>2.241</td>\n",
       "      <td>13.500</td>\n",
       "      <td>13.9</td>\n",
       "      <td>9.900</td>\n",
       "    </tr>\n",
       "    <tr>\n",
       "      <th>3</th>\n",
       "      <td>3</td>\n",
       "      <td>A1 SH</td>\n",
       "      <td>SHRIMPLIN</td>\n",
       "      <td>2794.5</td>\n",
       "      <td>86.10</td>\n",
       "      <td>0.655</td>\n",
       "      <td>13.9</td>\n",
       "      <td>13.115</td>\n",
       "      <td>3.5</td>\n",
       "      <td>1</td>\n",
       "      <td>0.936</td>\n",
       "      <td>FSiS</td>\n",
       "      <td>9.900</td>\n",
       "      <td>13.900</td>\n",
       "      <td>14.0</td>\n",
       "      <td>13.500</td>\n",
       "    </tr>\n",
       "    <tr>\n",
       "      <th>4</th>\n",
       "      <td>3</td>\n",
       "      <td>A1 SH</td>\n",
       "      <td>SHRIMPLIN</td>\n",
       "      <td>2795.0</td>\n",
       "      <td>74.58</td>\n",
       "      <td>0.647</td>\n",
       "      <td>13.5</td>\n",
       "      <td>13.300</td>\n",
       "      <td>3.4</td>\n",
       "      <td>1</td>\n",
       "      <td>0.915</td>\n",
       "      <td>FSiS</td>\n",
       "      <td>13.500</td>\n",
       "      <td>14.000</td>\n",
       "      <td>14.2</td>\n",
       "      <td>13.900</td>\n",
       "    </tr>\n",
       "  </tbody>\n",
       "</table>\n",
       "</div>"
      ],
      "text/plain": [
       "   Facies Formation  Well Name   Depth     GR  ILD_log10  DeltaPHI   PHIND  \\\n",
       "0       3     A1 SH  SHRIMPLIN  2793.0  77.45      0.664       9.9  11.915   \n",
       "1       3     A1 SH  SHRIMPLIN  2793.5  78.26      0.661      14.2  12.565   \n",
       "2       3     A1 SH  SHRIMPLIN  2794.0  79.05      0.658      14.8  13.050   \n",
       "3       3     A1 SH  SHRIMPLIN  2794.5  86.10      0.655      13.9  13.115   \n",
       "4       3     A1 SH  SHRIMPLIN  2795.0  74.58      0.647      13.5  13.300   \n",
       "\n",
       "    PE  NM_M  RELPOS FaciesLabels  DeltaPHI_1  DeltaPHI_2  DeltaPHI_6  \\\n",
       "0  4.6     1   1.000         FSiS       2.241       2.241         9.9   \n",
       "1  4.1     1   0.979         FSiS       2.241       9.900        13.5   \n",
       "2  3.6     1   0.957         FSiS       2.241      13.500        13.9   \n",
       "3  3.5     1   0.936         FSiS       9.900      13.900        14.0   \n",
       "4  3.4     1   0.915         FSiS      13.500      14.000        14.2   \n",
       "\n",
       "   DeltaPHI_7  \n",
       "0       2.241  \n",
       "1       2.241  \n",
       "2       9.900  \n",
       "3      13.500  \n",
       "4      13.900  "
      ]
     },
     "execution_count": 1413,
     "metadata": {},
     "output_type": "execute_result"
    }
   ],
   "source": [
    "training_data1a = training_data1.drop(kols_out, axis=1)\n",
    "training_data1a.head()"
   ]
  },
  {
   "cell_type": "code",
   "execution_count": 1614,
   "metadata": {
    "collapsed": false
   },
   "outputs": [],
   "source": [
    "\n",
    "def run_test(remove_well, df_train):\n",
    "    #df_test=training_data0\n",
    "    df_test=training_data1\n",
    "    #---------------------------------\n",
    "    #df_train=training_data1a\n",
    "    #df_train=training_data2\n",
    "    #df_test=df_test.drop(kols_out, axis=1)\n",
    "    #---------------------------------\n",
    "    #df_train=training_data0\n",
    "    #df_train=training_data1\n",
    "\n",
    "    #df_train=df_train.drop(kols_out, axis=1)\n",
    "\n",
    "    #training_data1a = training_data1.drop(kols_out, axis=1)\n",
    "\n",
    "\n",
    "    blind = df_test[df_test['Well Name'] == remove_well]      \n",
    "    training_data = df_train[df_train['Well Name'] != remove_well]  \n",
    "\n",
    "    correct_facies_labels_train = training_data['Facies'].values\n",
    "    feature_vectors = training_data.drop(['Formation', 'Well Name', 'Depth','Facies','FaciesLabels'], axis=1)\n",
    "    scaler = preprocessing.StandardScaler().fit(feature_vectors)\n",
    "    #scaled_features_train = scaler.transform(feature_vectors)\n",
    "    scaled_features_train = feature_vectors\n",
    "    \n",
    "    rf = RandomForestClassifier(max_depth = 15, n_estimators=600) \n",
    "    #rf = RandomForestClassifier()\n",
    "    rf.fit(scaled_features_train, correct_facies_labels_train)\n",
    "\n",
    "\n",
    "    # get the blind well\n",
    "    correct_facies_labels = blind['Facies'].values\n",
    "    feature_vectors = blind.drop(['Formation', 'Well Name', 'Depth','Facies','FaciesLabels'], axis=1)\n",
    "    scaler = preprocessing.StandardScaler().fit(feature_vectors)\n",
    "    #scaled_features = scaler.transform(feature_vectors)\n",
    "    scaled_features =feature_vectors\n",
    "\n",
    "    predicted_random_forest = rf.predict(scaled_features)\n",
    "    #print \"All training data different from test well\"\n",
    "    #print \"prediction from random forest:\"\n",
    "    #print metrics.accuracy_score(correct_facies_labels, predicted_random_forest)\n",
    "\n",
    "    #printnt \"f1 score:\"\n",
    "    #print metrics.f1_score(correct_facies_labels, predicted_random_forest,average = None)\n",
    "    #print \"average\"\n",
    "    out_f1=metrics.f1_score(correct_facies_labels, predicted_random_forest,average = 'micro')\n",
    "    return out_f1\n",
    "#print \n",
    "\n",
    "# 5-Fold Cross validation\n",
    "#print \"3-Fold Cross validation\"\n",
    "#cv_scores = cross_val_score(rf, scaled_features, correct_facies_labels, cv=4, scoring='f1_macro')\n",
    "#avg_cv_score = np.mean(cv_scores)\n",
    "\n",
    "#print cv_scores\n",
    "#avg_cv_score\n",
    "    \n",
    "    "
   ]
  },
  {
   "cell_type": "code",
   "execution_count": 1615,
   "metadata": {
    "collapsed": false
   },
   "outputs": [
    {
     "name": "stdout",
     "output_type": "stream",
     "text": [
      "well : CHURCHMAN BIBLE, f1 for different runs:\n",
      "average f1 is 0.577558, 2*std is 0.023684\n",
      "well : SHANKLE, f1 for different runs:\n",
      "average f1 is 0.510765, 2*std is 0.009153\n",
      "well : NOLAN, f1 for different runs:\n",
      "average f1 is 0.500402, 2*std is 0.018596\n",
      "well : NEWBY, f1 for different runs:\n",
      "average f1 is 0.506120, 2*std is 0.008876\n",
      "well : Recruit F9, f1 for different runs:\n",
      "average f1 is 0.803922, 2*std is 0.013865\n",
      "well : CROSS H CATTLE, f1 for different runs:\n",
      "average f1 is 0.379907, 2*std is 0.013173\n",
      "well : LUKE G U, f1 for different runs:\n",
      "average f1 is 0.613160, 2*std is 0.012440\n",
      "well : SHRIMPLIN, f1 for different runs:\n",
      "average f1 is 0.592357, 2*std is 0.015113\n",
      "overall average f1 is 0.560524\n"
     ]
    }
   ],
   "source": [
    "#df_train=training_data1a\n",
    "df_train=training_data1\n",
    "wells=['CHURCHMAN BIBLE','SHANKLE','NOLAN','NEWBY','Recruit F9' ,'CROSS H CATTLE','LUKE G U','SHRIMPLIN']\n",
    "av_all=[]\n",
    "for remove_well in wells:\n",
    "    all=[]\n",
    "    print(\"well : %s, f1 for different runs:\" % (remove_well))\n",
    "    for ii in range(3):\n",
    "        out_f1=run_test(remove_well,df_train)                \n",
    "        all.append(out_f1)\n",
    "    av1=np.mean(all) \n",
    "    av_all.append(av1)\n",
    "    print(\"average f1 is %f, 2*std is %f\" % (av1, 2*np.std(all)) )\n",
    "\n",
    "print(\"overall average f1 is %f\" % (np.mean(av_all)))\n"
   ]
  },
  {
   "cell_type": "code",
   "execution_count": 1572,
   "metadata": {
    "collapsed": false
   },
   "outputs": [
    {
     "name": "stdout",
     "output_type": "stream",
     "text": [
      "{'n_estimators': 350, 'max_depth': 5}\n"
     ]
    }
   ],
   "source": [
    "#rf = RandomForestClassifier(max_depth = 1, max_features= 'sqrt', n_estimators=50, oob_score = True) \n",
    "rfc = RandomForestClassifier(max_depth = 9, max_features= 'sqrt', n_estimators=250) \n",
    "#rf = RandomForestClassifier()\n",
    "#rf.fit(scaled_features_train, correct_facies_labels_train)\n",
    "param_grid = { \n",
    "    'max_depth'   : [5,6,7,8,9],\n",
    "    'n_estimators': [150, 250, 350, 600]\n",
    "}    \n",
    "#    'max_features': ['auto', 'sqrt', 'log2']\n",
    "#}\n",
    "CV_rfc = GridSearchCV(estimator=rfc, param_grid=param_grid, cv= 5)\n",
    "#CV_rfc.fit(X, y)\n",
    "CV_rfc.fit(scaled_features_train, correct_facies_labels_train)\n",
    "print CV_rfc.best_params_"
   ]
  },
  {
   "cell_type": "markdown",
   "metadata": {},
   "source": [
    "Train for the test data\n",
    "---------------------------------------------------"
   ]
  },
  {
   "cell_type": "code",
   "execution_count": 1633,
   "metadata": {
    "collapsed": true
   },
   "outputs": [],
   "source": [
    "filename = 'training_data.csv'\n",
    "training_data = pd.read_csv(filename)"
   ]
  },
  {
   "cell_type": "code",
   "execution_count": 1642,
   "metadata": {
    "collapsed": false
   },
   "outputs": [],
   "source": [
    "filename = 'validation_data_nofacies.csv'\n",
    "test_data = pd.read_csv(filename)"
   ]
  },
  {
   "cell_type": "code",
   "execution_count": 1643,
   "metadata": {
    "collapsed": false
   },
   "outputs": [
    {
     "data": {
      "text/html": [
       "<div>\n",
       "<table border=\"1\" class=\"dataframe\">\n",
       "  <thead>\n",
       "    <tr style=\"text-align: right;\">\n",
       "      <th></th>\n",
       "      <th>Formation</th>\n",
       "      <th>Well Name</th>\n",
       "      <th>Depth</th>\n",
       "      <th>GR</th>\n",
       "      <th>ILD_log10</th>\n",
       "      <th>DeltaPHI</th>\n",
       "      <th>PHIND</th>\n",
       "      <th>PE</th>\n",
       "      <th>NM_M</th>\n",
       "      <th>RELPOS</th>\n",
       "    </tr>\n",
       "  </thead>\n",
       "  <tbody>\n",
       "    <tr>\n",
       "      <th>0</th>\n",
       "      <td>A1 SH</td>\n",
       "      <td>STUART</td>\n",
       "      <td>2808.0</td>\n",
       "      <td>66.276</td>\n",
       "      <td>0.630</td>\n",
       "      <td>3.3</td>\n",
       "      <td>10.65</td>\n",
       "      <td>3.591</td>\n",
       "      <td>1</td>\n",
       "      <td>1.000</td>\n",
       "    </tr>\n",
       "    <tr>\n",
       "      <th>1</th>\n",
       "      <td>A1 SH</td>\n",
       "      <td>STUART</td>\n",
       "      <td>2808.5</td>\n",
       "      <td>77.252</td>\n",
       "      <td>0.585</td>\n",
       "      <td>6.5</td>\n",
       "      <td>11.95</td>\n",
       "      <td>3.341</td>\n",
       "      <td>1</td>\n",
       "      <td>0.978</td>\n",
       "    </tr>\n",
       "    <tr>\n",
       "      <th>2</th>\n",
       "      <td>A1 SH</td>\n",
       "      <td>STUART</td>\n",
       "      <td>2809.0</td>\n",
       "      <td>82.899</td>\n",
       "      <td>0.566</td>\n",
       "      <td>9.4</td>\n",
       "      <td>13.60</td>\n",
       "      <td>3.064</td>\n",
       "      <td>1</td>\n",
       "      <td>0.956</td>\n",
       "    </tr>\n",
       "    <tr>\n",
       "      <th>3</th>\n",
       "      <td>A1 SH</td>\n",
       "      <td>STUART</td>\n",
       "      <td>2809.5</td>\n",
       "      <td>80.671</td>\n",
       "      <td>0.593</td>\n",
       "      <td>9.5</td>\n",
       "      <td>13.25</td>\n",
       "      <td>2.977</td>\n",
       "      <td>1</td>\n",
       "      <td>0.933</td>\n",
       "    </tr>\n",
       "    <tr>\n",
       "      <th>4</th>\n",
       "      <td>A1 SH</td>\n",
       "      <td>STUART</td>\n",
       "      <td>2810.0</td>\n",
       "      <td>75.971</td>\n",
       "      <td>0.638</td>\n",
       "      <td>8.7</td>\n",
       "      <td>12.35</td>\n",
       "      <td>3.020</td>\n",
       "      <td>1</td>\n",
       "      <td>0.911</td>\n",
       "    </tr>\n",
       "  </tbody>\n",
       "</table>\n",
       "</div>"
      ],
      "text/plain": [
       "  Formation Well Name   Depth      GR  ILD_log10  DeltaPHI  PHIND     PE  \\\n",
       "0     A1 SH    STUART  2808.0  66.276      0.630       3.3  10.65  3.591   \n",
       "1     A1 SH    STUART  2808.5  77.252      0.585       6.5  11.95  3.341   \n",
       "2     A1 SH    STUART  2809.0  82.899      0.566       9.4  13.60  3.064   \n",
       "3     A1 SH    STUART  2809.5  80.671      0.593       9.5  13.25  2.977   \n",
       "4     A1 SH    STUART  2810.0  75.971      0.638       8.7  12.35  3.020   \n",
       "\n",
       "   NM_M  RELPOS  \n",
       "0     1   1.000  \n",
       "1     1   0.978  \n",
       "2     1   0.956  \n",
       "3     1   0.933  \n",
       "4     1   0.911  "
      ]
     },
     "execution_count": 1643,
     "metadata": {},
     "output_type": "execute_result"
    }
   ],
   "source": [
    "test_data.head()"
   ]
  },
  {
   "cell_type": "code",
   "execution_count": 1635,
   "metadata": {
    "collapsed": false
   },
   "outputs": [
    {
     "data": {
      "text/plain": [
       "[SHRIMPLIN, SHANKLE, LUKE G U, CROSS H CATTLE, NOLAN, Recruit F9, NEWBY, CHURCHMAN BIBLE]\n",
       "Categories (8, object): [SHRIMPLIN, SHANKLE, LUKE G U, CROSS H CATTLE, NOLAN, Recruit F9, NEWBY, CHURCHMAN BIBLE]"
      ]
     },
     "execution_count": 1635,
     "metadata": {},
     "output_type": "execute_result"
    }
   ],
   "source": [
    "training_data['Well Name'] = training_data['Well Name'].astype('category')\n",
    "training_data['Formation'] = training_data['Formation'].astype('category')\n",
    "training_data['Well Name'].unique()"
   ]
  },
  {
   "cell_type": "code",
   "execution_count": 1636,
   "metadata": {
    "collapsed": true
   },
   "outputs": [],
   "source": [
    "facies_labels = ['SS', 'CSiS', 'FSiS', 'SiSh', 'MS', 'WS', 'D','PS', 'BS']    \n",
    "training_data.loc[:,'FaciesLabels'] = training_data.apply(lambda row: label_facies(row, facies_labels), axis=1)"
   ]
  },
  {
   "cell_type": "code",
   "execution_count": 1657,
   "metadata": {
    "collapsed": true
   },
   "outputs": [],
   "source": [
    "#preprocessing\n",
    "test_data1=magic(test_data)\n",
    "training_data1=magic(training_data)"
   ]
  },
  {
   "cell_type": "code",
   "execution_count": 1665,
   "metadata": {
    "collapsed": true
   },
   "outputs": [],
   "source": [
    "\n",
    "def predict_final(test_well, training_data,test_data):\n",
    "    blind = test_data[test_data['Well Name'] == test_well]      \n",
    "    correct_facies_labels_train = training_data['Facies'].values\n",
    "    feature_vectors_train = training_data.drop(['Formation', 'Well Name', 'Depth','Facies','FaciesLabels'], axis=1)\n",
    "    rf = RandomForestClassifier(max_depth = 15, n_estimators=600) \n",
    "    rf.fit(feature_vectors_train, correct_facies_labels_train)\n",
    "\n",
    "    # the blind well\n",
    "    feature_vectors_blind = blind.drop(['Formation', 'Well Name', 'Depth'], axis=1)\n",
    "    predicted_random_forest = rf.predict(feature_vectors_blind)\n",
    "    #out_f1=metrics.f1_score(correct_facies_labels, predicted_random_forest,average = 'micro')\n",
    "    return predicted_random_forest\n",
    "\n",
    "        "
   ]
  },
  {
   "cell_type": "code",
   "execution_count": 1666,
   "metadata": {
    "collapsed": false
   },
   "outputs": [],
   "source": [
    "test_well='STUART'\n",
    "predicted_stu=predict_final(test_well, training_data1, test_data1)\n",
    "test_well='CRAWFORD'\n",
    "predicted_craw=predict_final(test_well, training_data1, test_data1)\n"
   ]
  },
  {
   "cell_type": "code",
   "execution_count": 1669,
   "metadata": {
    "collapsed": false
   },
   "outputs": [
    {
     "data": {
      "text/plain": [
       "array([2, 2, 3, 2, 2, 2, 2, 2, 2, 2, 2, 2, 2, 2, 2, 2, 2, 2, 2, 2, 2, 2, 2,\n",
       "       1, 2, 2, 1, 2, 2, 1, 2, 2, 3, 2, 2, 2, 2, 3, 2, 3, 3, 2, 2, 8, 8, 8,\n",
       "       8, 6, 6, 6, 6, 6, 6, 6, 4, 4, 4, 4, 4, 4, 4, 4, 6, 6, 6, 6, 6, 6, 6,\n",
       "       6, 6, 8, 8, 8, 8, 8, 8, 8, 8, 8, 8, 8, 8, 8, 8, 8, 8, 8, 6, 6, 6, 6,\n",
       "       6, 6, 6, 6, 6, 6, 6, 6, 4, 4, 4, 4, 4, 4, 6, 8, 6, 6, 6, 6, 6, 6, 6,\n",
       "       6, 6, 6, 6, 6, 2, 2, 3, 2, 2, 2, 2, 2, 2, 2, 2, 2, 2, 2, 2, 2, 2, 2,\n",
       "       2, 2, 2, 2, 2, 2, 2, 2, 2, 2, 2, 2, 8, 8, 8, 8, 8, 8, 8, 8, 8, 8, 8,\n",
       "       8, 8, 5, 8, 6, 6, 6, 6, 6, 6, 6, 6, 6, 6, 6, 6, 6, 6, 6, 8, 8, 2, 2,\n",
       "       2, 3, 3, 3, 3, 3, 3, 3, 2, 2, 3, 3, 3, 3, 3, 2, 8, 8, 8, 8, 8, 8, 8,\n",
       "       8, 8, 8, 8, 8, 8, 8, 8, 8, 8, 8, 8, 8, 8, 8, 8, 6, 6, 6, 6, 2, 2, 3,\n",
       "       3, 3, 3, 3, 2, 2, 2, 2, 2, 2, 2, 2, 2, 2, 2, 2, 3, 3, 3, 8, 8, 8, 8,\n",
       "       8, 8, 8, 8, 8, 6, 2, 2, 2, 2, 2, 2, 2, 2, 2, 2, 2, 2, 2, 2, 2, 2, 3,\n",
       "       3, 3, 8, 8, 8, 8, 8, 8, 8, 8, 8, 8, 8, 8, 8, 3, 3, 3, 3, 8, 8, 8, 8,\n",
       "       8, 8, 8, 8, 8, 8, 8, 7, 4, 7, 7, 8, 8, 8, 8, 6, 6, 8, 8, 8, 8, 9, 9,\n",
       "       9, 8, 8, 8, 8, 6, 6, 6, 6, 6, 6, 6, 3, 3, 3, 3, 3, 3, 3, 3, 3, 3, 3,\n",
       "       3, 3, 3, 3, 3, 3, 3, 3, 3, 2, 2, 2, 2, 2, 2, 2, 2, 2, 2, 2, 2, 2, 2,\n",
       "       3, 3, 3, 3, 2, 8, 8, 8, 8, 8, 8, 8, 8, 8, 8, 8, 8, 8, 8, 8, 8, 8, 8,\n",
       "       8, 8, 8, 8, 6, 6, 6, 6, 6, 6, 8, 8, 8, 8, 8, 6, 6, 6, 6, 6, 6, 6, 6,\n",
       "       5, 5, 5, 5, 5, 5, 5, 5, 5, 5, 5, 5, 5, 5, 5, 6, 6, 6, 6, 6, 6, 6, 6,\n",
       "       4, 4, 4, 4, 8, 8, 8, 8, 8, 6, 6, 6, 6, 6, 8, 8, 4, 8, 4, 8, 8, 4, 4,\n",
       "       4, 4, 4, 4, 4, 4, 4, 4, 4, 4, 4, 4, 4, 4])"
      ]
     },
     "execution_count": 1669,
     "metadata": {},
     "output_type": "execute_result"
    }
   ],
   "source": [
    "predicted_stu"
   ]
  },
  {
   "cell_type": "code",
   "execution_count": 1670,
   "metadata": {
    "collapsed": false
   },
   "outputs": [
    {
     "data": {
      "text/plain": [
       "array([8, 8, 8, 8, 8, 8, 8, 8, 8, 8, 6, 6, 5, 5, 7, 7, 7, 7, 7, 4, 4, 4, 4,\n",
       "       4, 7, 4, 4, 4, 4, 4, 6, 4, 4, 4, 8, 6, 6, 6, 6, 6, 6, 6, 6, 4, 4, 6,\n",
       "       8, 8, 8, 8, 8, 8, 6, 6, 6, 6, 6, 6, 6, 6, 6, 6, 6, 6, 6, 6, 6, 6, 6,\n",
       "       4, 4, 4, 8, 8, 8, 8, 1, 1, 1, 1, 1, 1, 1, 1, 1, 1, 1, 8, 8, 8, 8, 6,\n",
       "       6, 6, 6, 6, 6, 6, 8, 8, 8, 3, 3, 8, 8, 8, 8, 8, 8, 8, 5, 5, 8, 8, 8,\n",
       "       8, 8, 8, 8, 8, 8, 8, 8, 8, 8, 8, 6, 6, 6, 6, 6, 6, 6, 6, 6, 6, 6, 8,\n",
       "       6, 8, 8, 8, 6, 6, 6, 8, 2, 2, 2, 2, 2, 2, 2, 2, 2, 2, 2, 2, 2, 2, 2,\n",
       "       2, 2, 1, 2, 3, 8, 8, 8, 8, 8, 8, 8, 9, 9, 9, 9, 9, 8, 8, 8, 8, 7, 7,\n",
       "       7, 7, 7, 7, 7, 8, 8, 8, 8, 8, 3, 3, 2, 2, 2, 2, 2, 2, 2, 2, 2, 2, 2,\n",
       "       2, 2, 2, 2, 3, 3, 8, 8, 8, 8, 8, 8, 8, 8, 8, 8, 8, 8, 6, 6, 6, 6, 2,\n",
       "       2, 2, 2, 2, 2, 2, 2, 2, 2, 2, 2, 2, 2, 2, 2, 2, 2, 3, 3, 8, 8, 8, 8,\n",
       "       8, 8, 8, 8, 8, 8, 6, 6, 6, 6, 6, 6, 8, 2, 2, 2, 1, 2, 2, 2, 2, 2, 2,\n",
       "       3, 3, 3, 8, 8, 8, 8, 8, 8, 8, 8, 5, 7, 7, 7, 7, 7, 7, 7, 7, 7, 7, 7,\n",
       "       7, 7, 7, 7, 7, 7, 7, 7, 8, 8, 7, 7, 7, 7, 7, 7, 7, 7, 7, 7, 7, 7, 7,\n",
       "       7, 7, 7, 7, 7, 7, 8, 8, 8, 8, 8, 6, 6, 6, 6, 6, 2, 3, 3, 3, 2, 2, 2,\n",
       "       2, 2, 2, 2, 2, 2, 2, 3, 3, 3, 3])"
      ]
     },
     "execution_count": 1670,
     "metadata": {},
     "output_type": "execute_result"
    }
   ],
   "source": [
    "predicted_craw"
   ]
  }
 ],
 "metadata": {
  "anaconda-cloud": {},
  "kernelspec": {
   "display_name": "Python [default]",
   "language": "python",
   "name": "python2"
  },
  "language_info": {
   "codemirror_mode": {
    "name": "ipython",
    "version": 2
   },
   "file_extension": ".py",
   "mimetype": "text/x-python",
   "name": "python",
   "nbconvert_exporter": "python",
   "pygments_lexer": "ipython2",
   "version": "2.7.12"
  }
 },
 "nbformat": 4,
 "nbformat_minor": 1
}
